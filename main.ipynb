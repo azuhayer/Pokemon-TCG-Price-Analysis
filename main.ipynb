{
 "cells": [
  {
   "cell_type": "markdown",
   "metadata": {},
   "source": [
    "## Pokemon TCG Price Trends Analysis \n",
    "This project involves in collecting and analyzing of Pokemon card price data to identify trends, fluctations and other factors effecting card value.\n",
    "\n",
    "## Project Goals\n",
    "- Gather Pokemon TCG card data from a public dataset \n",
    "- Analyze price trends over time for different rarities and sets\n",
    "- Visualize how factors like set and rarity influence price\n",
    "- Use basic statistical methods to find insights (e.g., average price changes over time)"
   ]
  },
  {
   "cell_type": "markdown",
   "metadata": {},
   "source": [
    "--------------------------------------------------------------------------------------------------------------------------------------------------------------------------"
   ]
  },
  {
   "cell_type": "markdown",
   "metadata": {},
   "source": [
    "For this project we will utilize the Pokemon Trading Cards public dataset on kaggle: https://www.kaggle.com/datasets/jacklacey/pokemon-trading-cards/data \n",
    "\n",
    "We will view the first couple of rows and use this dataset to clean it of any inconsistencies and/or null values"
   ]
  },
  {
   "cell_type": "code",
   "execution_count": 35,
   "metadata": {},
   "outputs": [
    {
     "name": "stdout",
     "output_type": "stream",
     "text": [
      "    Pokemon     Card Type Generation Card Number  Price\n",
      "0  AMPHAROS  REVERSE HOLO  AQUAPOLIS  001 OF 147   2.95\n",
      "1  AMPHAROS      STANDARD  AQUAPOLIS  001 OF 147   2.50\n",
      "2  ARCANINE  REVERSE HOLO  AQUAPOLIS  002 OF 147   3.95\n",
      "3  ARCANINE      STANDARD  AQUAPOLIS  002 OF 147   2.95\n",
      "4   ARIADOS  REVERSE HOLO  AQUAPOLIS  003 OF 147   2.50\n",
      "<class 'pandas.core.frame.DataFrame'>\n",
      "RangeIndex: 25598 entries, 0 to 25597\n",
      "Data columns (total 5 columns):\n",
      " #   Column       Non-Null Count  Dtype  \n",
      "---  ------       --------------  -----  \n",
      " 0   Pokemon      25598 non-null  object \n",
      " 1   Card Type    25598 non-null  object \n",
      " 2   Generation   25598 non-null  object \n",
      " 3   Card Number  25598 non-null  object \n",
      " 4   Price        25598 non-null  float64\n",
      "dtypes: float64(1), object(4)\n",
      "memory usage: 1000.1+ KB\n",
      "None\n"
     ]
    }
   ],
   "source": [
    "import pandas as pd\n",
    "\n",
    "# Read the CSV file into a DataFrame\n",
    "df = pd.read_csv(\"pokemon_cards.csv\", encoding='latin1')\n",
    "df.rename(columns={\"Price £\": \"Price\"}, inplace=True)\n",
    "\n",
    "# Show the first 5 rows of dataset\n",
    "print(df.head())\n",
    "\n",
    "# Show dataset information\n",
    "print(df.info())"
   ]
  },
  {
   "cell_type": "code",
   "execution_count": null,
   "metadata": {},
   "outputs": [
    {
     "name": "stdout",
     "output_type": "stream",
     "text": [
      "Pokemon        0\n",
      "Card Type      0\n",
      "Generation     0\n",
      "Card Number    0\n",
      "Price          0\n",
      "dtype: int64\n"
     ]
    }
   ],
   "source": [
    "# Check to see if there are any null values in the dataset\n",
    "null_values = df.isnull()\n",
    "print(null_values.sum())"
   ]
  },
  {
   "cell_type": "markdown",
   "metadata": {},
   "source": [
    "Our dataset has no null values in any of the columns, which means we can continue with our analysis \n",
    "\n",
    "Since we want to study the price trends of pokemon cards for the different rarities and sets, we will first view the types of rarities there are and the different sets in this dataset. "
   ]
  },
  {
   "cell_type": "code",
   "execution_count": null,
   "metadata": {},
   "outputs": [
    {
     "name": "stdout",
     "output_type": "stream",
     "text": [
      "['REVERSE HOLO' 'STANDARD' 'SPECIAL' 'FULL ART' 'SHINY' 'GOLD'\n",
      " 'TEAM PLASMA' '1ST EDITION' 'UK PRINT' 'SHADOWLESS' 'UNLIMITED'\n",
      " 'COSMIC FOIL' 'PLAYED' 'RED CHEEKS' 'YELLOW CHEEKS' 'EXCELLENT'\n",
      " 'LEAGUE PROMO' 'BASIC' 'FOIL' 'PRERELEASE PROMO' 'COSMO HOLO'\n",
      " 'DELTA SPECIES' 'NORMAL' 'ATTACK' 'DEFENSE' 'PRERELEASE'\n",
      " 'PRE-RELEASE 2003' 'CITY CHAMPIONSHIPS PROMO' 'ATTACK DELTA SPECIES'\n",
      " 'DEFENSE DELTA SPECIES' 'NORMAL DELTA SPECIES' 'SPEED DELTA SPECIES' '!'\n",
      " '?' 'A' 'B' 'C' 'D' 'E' 'F' 'G' 'H' 'I' 'J' 'K' 'L' 'M' 'N' 'O' 'P' 'Q'\n",
      " 'R' 'S' 'T' 'U' 'V' 'W' 'X' 'Y' 'Z' 'TOP' 'BOTTOM' 'GOOD'\n",
      " \"ROCKET'S SECRET MACHINE\" 'UNPEELED' 'ALTERNATE ART' 'VER. A' 'VER. B'\n",
      " 'HOLO PROMO' 'COSMO HOLO PROMO' 'ALTERNATIVE ART)0.29' 'FULL ART SHINY'\n",
      " 'ALTERNATIVE ART HOLO' 'SHINY VAULT' 'ALTERNATIVE ART' 'NON-HOLO'\n",
      " 'FEMALE' 'MALE' 'SECRET' 'RAPID STRIKE' 'SINGLE STRIKE' 'ALT ART'\n",
      " 'NON HOLO' 'SHATTER HOLO' 'ORANGE' 'PINK' 'HOLO' 'REVERSE FOIL']\n"
     ]
    }
   ],
   "source": [
    "# View all rarity types in the dataset\n",
    "print(df['Card Type'].unique())"
   ]
  },
  {
   "cell_type": "code",
   "execution_count": 40,
   "metadata": {},
   "outputs": [
    {
     "name": "stdout",
     "output_type": "stream",
     "text": [
      "['AQUAPOLIS' 'ARCEUS' 'B&W - BOUNDARIES CROSSED' 'B&W - DARK EXPLORERS'\n",
      " 'B&W - DRAGONS EXALTED' 'B&W - EMERGING POWERS'\n",
      " 'B&W - LEGENDARY TREASURES' 'B&W - LEGENDARY TREASURES RC01'\n",
      " 'B&W - LEGENDARY TREASURES RC02' 'B&W - LEGENDARY TREASURES RC03'\n",
      " 'B&W - LEGENDARY TREASURES RC04' 'B&W - LEGENDARY TREASURES RC05'\n",
      " 'B&W - LEGENDARY TREASURES RC06' 'B&W - LEGENDARY TREASURES RC07'\n",
      " 'B&W - LEGENDARY TREASURES RC08' 'B&W - LEGENDARY TREASURES RC09'\n",
      " 'B&W - LEGENDARY TREASURES RC10' 'B&W - LEGENDARY TREASURES RC11'\n",
      " 'B&W - LEGENDARY TREASURES RC12' 'B&W - LEGENDARY TREASURES RC13'\n",
      " 'B&W - LEGENDARY TREASURES RC14' 'B&W - LEGENDARY TREASURES RC15'\n",
      " 'B&W - LEGENDARY TREASURES RC16' 'B&W - LEGENDARY TREASURES RC17'\n",
      " 'B&W - LEGENDARY TREASURES RC18' 'B&W - LEGENDARY TREASURES RC19'\n",
      " 'B&W - LEGENDARY TREASURES RC20' 'B&W - LEGENDARY TREASURES RC21'\n",
      " 'B&W - LEGENDARY TREASURES RC22' 'B&W - LEGENDARY TREASURES RC23'\n",
      " 'B&W - LEGENDARY TREASURES RC24' 'B&W - LEGENDARY TREASURES RC25'\n",
      " 'B&W - NEXT DESTINIES' 'B&W - NOBLE VICTORIES' 'B&W - PLASMA BLAST'\n",
      " 'B&W - PLASMA FREEZE' 'B&W - PLASMA STORM' 'BASE SET' 'BASE SET 2'\n",
      " 'BATTLE ACADEMY CHARIZARD DECK' 'BATTLE ACADEMY MEWTWO DECK'\n",
      " 'BATTLE ACADEMY PIKACHU DECK' 'BLACK AND WHITE' 'CALL OF LEGENDS'\n",
      " 'CELEBRATIONS' 'CELEBRATIONS - CLASSIC COLLECTION (BASE SET)'\n",
      " 'CELEBRATIONS - CLASSIC COLLECTION (BLACK AND WHITE)'\n",
      " 'CELEBRATIONS - CLASSIC COLLECTION (EX DRAGON FRONTIERS)'\n",
      " 'CELEBRATIONS - CLASSIC COLLECTION (EX LEGEND MAKER)'\n",
      " 'CELEBRATIONS - CLASSIC COLLECTION (EX TEAM ROCKET RETURNS)'\n",
      " 'CELEBRATIONS - CLASSIC COLLECTION (GREAT WNCOUNTERS)'\n",
      " 'CELEBRATIONS - CLASSIC COLLECTION (GUARDIANS RISING)'\n",
      " 'CELEBRATIONS - CLASSIC COLLECTION (GYM CHALLENGE)'\n",
      " 'CELEBRATIONS - CLASSIC COLLECTION (HEARTGOLD AND SOULSILVER)'\n",
      " 'CELEBRATIONS - CLASSIC COLLECTION (NEO GENESIS)'\n",
      " 'CELEBRATIONS - CLASSIC COLLECTION (NEO REVELATION)'\n",
      " 'CELEBRATIONS - CLASSIC COLLECTION (NEXT DESTINIES)'\n",
      " 'CELEBRATIONS - CLASSIC COLLECTION (POP SERIES 5)'\n",
      " 'CELEBRATIONS - CLASSIC COLLECTION (RISING RIVALS)'\n",
      " 'CELEBRATIONS - CLASSIC COLLECTION (ROARING SKIES)'\n",
      " 'CELEBRATIONS - CLASSIC COLLECTION (SUPREME VICTORS)'\n",
      " 'CELEBRATIONS - CLASSIC COLLECTION (TEAM ROCKET)'\n",
      " 'CELEBRATIONS - CLASSIC COLLECTION (XY)'\n",
      " 'CELEBRATIONS - CLASSIC COLLECTION EX TEAM MAGMA VS TEAM AQUA)'\n",
      " 'CINDERACE V - FOR ONLINE PLAY ONLY - X 1' 'DIAMOND & PEARL'\n",
      " 'DRAGON VAULT' 'DRAGON VAULT PROMO 1' 'DRAGON VAULT PROMO 2'\n",
      " 'DRAGON VAULT PROMO 3' 'DRAGON VAULT PROMO 4' 'DRAGON VAULT PROMO 5'\n",
      " 'EX CRYSTAL GUARDIANS' 'EX DELTA SPECIES' 'EX DEOXYS' 'EX DRAGON'\n",
      " 'EX DRAGON FRONTIERS' 'EX EMERALD' 'EX FIRE RED & LEAF GREEN'\n",
      " 'EX HIDDEN LEGENDS' 'EX HOLON PHANTOMS' 'EX LEGEND MAKER'\n",
      " 'EX POWER KEEPERS' 'EX RUBY AND SAPPHIRE' 'EX SANDSTORM'\n",
      " 'EX TEAM AQUA-TEAM MAGMA' 'EX TEAM ROCKET RETURNS' 'EX UNSEEN FORCES'\n",
      " 'EXPEDITION' 'FOSSIL' 'GENERATIONS' 'GENERATIONS RC01' 'GENERATIONS RC02'\n",
      " 'GENERATIONS RC03' 'GENERATIONS RC04' 'GENERATIONS RC05'\n",
      " 'GENERATIONS RC06' 'GENERATIONS RC07' 'GENERATIONS RC08'\n",
      " 'GENERATIONS RC09' 'GENERATIONS RC10' 'GENERATIONS RC11'\n",
      " 'GENERATIONS RC12' 'GENERATIONS RC13' 'GENERATIONS RC14'\n",
      " 'GENERATIONS RC15' 'GENERATIONS RC16' 'GENERATIONS RC17'\n",
      " 'GENERATIONS RC18' 'GENERATIONS RC19' 'GENERATIONS RC20'\n",
      " 'GENERATIONS RC21' 'GENERATIONS RC22' 'GENERATIONS RC23'\n",
      " 'GENERATIONS RC24' 'GENERATIONS RC25' 'GENERATIONS RC26'\n",
      " 'GENERATIONS RC27' 'GENERATIONS RC28' 'GENERATIONS RC29'\n",
      " 'GENERATIONS RC30' 'GENERATIONS RC31' 'GENERATIONS RC32'\n",
      " 'GREAT ENCOUNTERS' 'GYM CHALLENGE' 'GYM HEROES' 'HS HEARTGOLD SOULSILVER'\n",
      " 'HS HEARTGOLD SOULSILVER ONE' 'HS TRIUMPHANT' 'HS TRIUMPHANT FOUR'\n",
      " 'HS UNDAUNTED' 'HS UNDAUNTED THREE' 'HS UNLEASHED' 'HS UNLEASHED TWO'\n",
      " 'INTELEON V - FOR ONLINE PLAY ONLY - X 1' 'JUNGLE' 'LEGENDARY COLLECTION'\n",
      " 'LEGENDS AWAKENED' 'MAJESTIC DAWN' 'MYSTERIOUS TREASURES' 'NEO DESTINY'\n",
      " 'NEO DISCOVERY' 'NEO GENESIS' 'NEO REVELATION' 'PLATINUM' 'POKEMON GO!'\n",
      " 'POKEMON JAPANESE SINGLE CARD - (BW5) DRAGON BLADE'\n",
      " 'POKEMON JAPANESE SINGLE CARD - (BW5) DRAGON BLAST'\n",
      " 'POKEMON JAPANESE SINGLE CARD - (BW6) COLD FLARE'\n",
      " 'POKEMON JAPANESE SINGLE CARD - (BW6) FREEZE BOLT'\n",
      " 'POKEMON JAPANESE SINGLE CARD - (BW7) PLASMA GALE'\n",
      " 'POKEMON JAPANESE SINGLE CARD - BASE SET'\n",
      " 'POKEMON JAPANESE SINGLE CARD - FOSSIL'\n",
      " 'POKEMON JAPANESE SINGLE CARD - GYM 1'\n",
      " 'POKEMON JAPANESE SINGLE CARD - GYM SET 2'\n",
      " 'POKEMON JAPANESE SINGLE CARD - JUNGLE'\n",
      " 'POKEMON JAPANESE SINGLE CARD - ROCKET GANG'\n",
      " 'RILLABOOM V - FOR ONLINE PLAY ONLY - X 1' 'RISING RIVALS'\n",
      " 'SECRET WONDERS' 'SHINING FATES' 'SKYRIDGE' 'SOUTHERN ISLANDS'\n",
      " 'STORMFRONT' 'SUN AND MOON - BASE SET' 'SUN AND MOON - BURNING SHADOWS'\n",
      " 'SUN AND MOON - CELESTIAL STORM' 'SUN AND MOON - COSMIC ECLIPSE'\n",
      " 'SUN AND MOON - CRIMSON INVASION' 'SUN AND MOON - DETECTIVE PIKACHU'\n",
      " 'SUN AND MOON - DRAGON MAJESTY' 'SUN AND MOON - FORBIDDEN LIGHT'\n",
      " 'SUN AND MOON - GUARDIANS RISING' 'SUN AND MOON - HIDDEN FATES'\n",
      " 'SUN AND MOON - LOST THUNDER' 'SUN AND MOON - TEAM UP'\n",
      " 'SUN AND MOON - ULTRA PRISM' 'SUN AND MOON - UNBROKEN BONDS'\n",
      " 'SUN AND MOON - UNIFIED MINDS' 'SUPREME VICTORS'\n",
      " 'SWORD AND SHIELD - BATTLE STYLES' 'SWORD AND SHIELD - BRILLIANT STARS'\n",
      " \"SWORD AND SHIELD - CHAMPION'S PATH\"\n",
      " \"SWORD AND SHIELD - CHAMPION'S PATH EN01\"\n",
      " \"SWORD AND SHIELD - CHAMPION'S PATH EN02\"\n",
      " \"SWORD AND SHIELD - CHAMPION'S PATH EN03\"\n",
      " \"SWORD AND SHIELD - CHAMPION'S PATH EN04\"\n",
      " \"SWORD AND SHIELD - CHAMPION'S PATH EN05\"\n",
      " \"SWORD AND SHIELD - CHAMPION'S PATH EN06\"\n",
      " \"SWORD AND SHIELD - CHAMPION'S PATH EN07\"\n",
      " \"SWORD AND SHIELD - CHAMPION'S PATH EN08\"\n",
      " \"SWORD AND SHIELD - CHAMPION'S PATH EN09\"\n",
      " 'SWORD AND SHIELD - CHILLING REIGN' 'SWORD AND SHIELD - DARKNESS ABLAZE'\n",
      " 'SWORD AND SHIELD - EVOLVING SKIES' 'SWORD AND SHIELD - FUSION STRIKE'\n",
      " 'SWORD AND SHIELD - REBEL CLASH' 'SWORD AND SHIELD - VIVID VOLTAGE'\n",
      " 'SWORD AND SHIELD ASTRAL RADIANCE' 'SWORD AND SHIELD BASE SET'\n",
      " 'TEAM ROCKET' 'UNOVA STARTERS (OVERSIZE)' 'XY - ANCIENT ORIGINS'\n",
      " 'XY - BASE SET' 'XY - BREAKPOINT' 'XY - BREAKTHROUGH'\n",
      " 'XY - DOUBLE CRISIS' 'XY - EVOLUTIONS' 'XY - FATES COLLIDE'\n",
      " 'XY - FLASHFIRE' 'XY - FURIOUS FISTS' 'XY - KALOS STARTER SET'\n",
      " 'XY - PHANTOM FORCES' 'XY - PRIMAL CLASH' 'XY - ROARING SKIES'\n",
      " 'XY - SHINING LEGENDS' 'XY - STEAM SIEGE']\n"
     ]
    }
   ],
   "source": [
    "# View all sets in the dataset\n",
    "print(df['Generation'].unique())"
   ]
  }
 ],
 "metadata": {
  "kernelspec": {
   "display_name": "Python 3",
   "language": "python",
   "name": "python3"
  },
  "language_info": {
   "codemirror_mode": {
    "name": "ipython",
    "version": 3
   },
   "file_extension": ".py",
   "mimetype": "text/x-python",
   "name": "python",
   "nbconvert_exporter": "python",
   "pygments_lexer": "ipython3",
   "version": "3.12.0"
  }
 },
 "nbformat": 4,
 "nbformat_minor": 2
}
