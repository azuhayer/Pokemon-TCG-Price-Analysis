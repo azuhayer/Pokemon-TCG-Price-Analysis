{
 "cells": [
  {
   "cell_type": "markdown",
   "metadata": {},
   "source": [
    "## Pokemon TCG Price Trends Analysis \n",
    "This project involves in collecting and analyzing of Pokemon card price data to identify trends, fluctations and other factors effecting card value.\n",
    "\n",
    "## Project Goals\n",
    "- Gather Pokemon TCG card data from a public dataset \n",
    "- Analyze price trends over time for different rarities, sets, and card conditions\n",
    "- Visualize how factors like set, rarity, and card condition influence price\n",
    "- Use basic statistical methods to find insights (e.g., average price changes over time)"
   ]
  },
  {
   "cell_type": "markdown",
   "metadata": {},
   "source": [
    "--------------------------------------------------------------------------------------------------------------------------------------------------------------------------"
   ]
  },
  {
   "cell_type": "markdown",
   "metadata": {},
   "source": [
    "For this project we will utilize the Pokemon Trading Cards public dataset on kaggle: https://www.kaggle.com/datasets/jacklacey/pokemon-trading-cards/data \n",
    "\n",
    "We will view the first couple of rows and use this dataset to clean it of any inconsistencies and/or null values"
   ]
  },
  {
   "cell_type": "code",
   "execution_count": 24,
   "metadata": {},
   "outputs": [
    {
     "data": {
      "text/html": [
       "<div>\n",
       "<style scoped>\n",
       "    .dataframe tbody tr th:only-of-type {\n",
       "        vertical-align: middle;\n",
       "    }\n",
       "\n",
       "    .dataframe tbody tr th {\n",
       "        vertical-align: top;\n",
       "    }\n",
       "\n",
       "    .dataframe thead th {\n",
       "        text-align: right;\n",
       "    }\n",
       "</style>\n",
       "<table border=\"1\" class=\"dataframe\">\n",
       "  <thead>\n",
       "    <tr style=\"text-align: right;\">\n",
       "      <th></th>\n",
       "      <th>Pokemon</th>\n",
       "      <th>Card Type</th>\n",
       "      <th>Generation</th>\n",
       "      <th>Card Number</th>\n",
       "      <th>Price</th>\n",
       "    </tr>\n",
       "  </thead>\n",
       "  <tbody>\n",
       "    <tr>\n",
       "      <th>0</th>\n",
       "      <td>AMPHAROS</td>\n",
       "      <td>REVERSE HOLO</td>\n",
       "      <td>AQUAPOLIS</td>\n",
       "      <td>001 OF 147</td>\n",
       "      <td>2.95</td>\n",
       "    </tr>\n",
       "    <tr>\n",
       "      <th>1</th>\n",
       "      <td>AMPHAROS</td>\n",
       "      <td>STANDARD</td>\n",
       "      <td>AQUAPOLIS</td>\n",
       "      <td>001 OF 147</td>\n",
       "      <td>2.50</td>\n",
       "    </tr>\n",
       "    <tr>\n",
       "      <th>2</th>\n",
       "      <td>ARCANINE</td>\n",
       "      <td>REVERSE HOLO</td>\n",
       "      <td>AQUAPOLIS</td>\n",
       "      <td>002 OF 147</td>\n",
       "      <td>3.95</td>\n",
       "    </tr>\n",
       "    <tr>\n",
       "      <th>3</th>\n",
       "      <td>ARCANINE</td>\n",
       "      <td>STANDARD</td>\n",
       "      <td>AQUAPOLIS</td>\n",
       "      <td>002 OF 147</td>\n",
       "      <td>2.95</td>\n",
       "    </tr>\n",
       "    <tr>\n",
       "      <th>4</th>\n",
       "      <td>ARIADOS</td>\n",
       "      <td>REVERSE HOLO</td>\n",
       "      <td>AQUAPOLIS</td>\n",
       "      <td>003 OF 147</td>\n",
       "      <td>2.50</td>\n",
       "    </tr>\n",
       "  </tbody>\n",
       "</table>\n",
       "</div>"
      ],
      "text/plain": [
       "    Pokemon     Card Type Generation Card Number  Price\n",
       "0  AMPHAROS  REVERSE HOLO  AQUAPOLIS  001 OF 147   2.95\n",
       "1  AMPHAROS      STANDARD  AQUAPOLIS  001 OF 147   2.50\n",
       "2  ARCANINE  REVERSE HOLO  AQUAPOLIS  002 OF 147   3.95\n",
       "3  ARCANINE      STANDARD  AQUAPOLIS  002 OF 147   2.95\n",
       "4   ARIADOS  REVERSE HOLO  AQUAPOLIS  003 OF 147   2.50"
      ]
     },
     "execution_count": 24,
     "metadata": {},
     "output_type": "execute_result"
    }
   ],
   "source": [
    "import pandas as pd\n",
    "\n",
    "# Read the CSV file into a DataFrame\n",
    "df = pd.read_csv(\"pokemon_cards.csv\", encoding='latin1')\n",
    "df.rename(columns={\"Price £\": \"Price\"}, inplace=True)\n",
    "\n",
    "# Show the first 5 rows of dataset\n",
    "df.head()"
   ]
  },
  {
   "cell_type": "code",
   "execution_count": null,
   "metadata": {},
   "outputs": [
    {
     "name": "stdout",
     "output_type": "stream",
     "text": [
      "Pokemon        0\n",
      "Card Type      0\n",
      "Generation     0\n",
      "Card Number    0\n",
      "Price          0\n",
      "dtype: int64\n"
     ]
    }
   ],
   "source": [
    "# Check to see if there are any null values in the dataset\n",
    "null_values = df.isnull()\n",
    "print(null_values.sum())"
   ]
  }
 ],
 "metadata": {
  "kernelspec": {
   "display_name": "Python 3",
   "language": "python",
   "name": "python3"
  },
  "language_info": {
   "codemirror_mode": {
    "name": "ipython",
    "version": 3
   },
   "file_extension": ".py",
   "mimetype": "text/x-python",
   "name": "python",
   "nbconvert_exporter": "python",
   "pygments_lexer": "ipython3",
   "version": "3.12.0"
  }
 },
 "nbformat": 4,
 "nbformat_minor": 2
}
