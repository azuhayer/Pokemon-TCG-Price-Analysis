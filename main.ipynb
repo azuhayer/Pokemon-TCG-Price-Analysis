{
 "cells": [
  {
   "cell_type": "markdown",
   "metadata": {},
   "source": [
    "## Pokemon TCG Price Trends Analysis \n",
    "This project involves in collecting and analyzing of Pokemon card price data to identify trends, fluctations and other factors effecting card value.\n",
    "\n",
    "## Project Goals\n",
    "- Gather Pokemon TCG card data from a public dataset\n",
    "- Analyze price trends over time for different rarities, sets, and card conditions\n",
    "- Visualize how factors like set, rarity, and card condition influence price\n",
    "- Use basic statistical methods to find insights (e.g., average price changes over time)"
   ]
  },
  {
   "cell_type": "code",
   "execution_count": null,
   "metadata": {},
   "outputs": [],
   "source": [
    "import pandas as pd\n",
    "\n",
    "df = pd.read_csv(\"pokemon_cards.csv\")\n",
    "df.head()"
   ]
  }
 ],
 "metadata": {
  "kernelspec": {
   "display_name": "Python 3",
   "language": "python",
   "name": "python3"
  },
  "language_info": {
   "codemirror_mode": {
    "name": "ipython",
    "version": 3
   },
   "file_extension": ".py",
   "mimetype": "text/x-python",
   "name": "python",
   "nbconvert_exporter": "python",
   "pygments_lexer": "ipython3",
   "version": "3.12.0"
  }
 },
 "nbformat": 4,
 "nbformat_minor": 2
}
